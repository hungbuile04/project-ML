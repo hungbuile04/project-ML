{
  "nbformat": 4,
  "nbformat_minor": 0,
  "metadata": {
    "colab": {
      "provenance": []
    },
    "kernelspec": {
      "name": "python3",
      "display_name": "Python 3"
    },
    "language_info": {
      "name": "python"
    }
  },
  "cells": [
    {
      "cell_type": "code",
      "execution_count": 1,
      "metadata": {
        "colab": {
          "base_uri": "https://localhost:8080/"
        },
        "id": "ClBDMf6HQKE5",
        "outputId": "3b8a5eb5-6fe8-4eac-cab9-5817bf24b584"
      },
      "outputs": [
        {
          "output_type": "stream",
          "name": "stdout",
          "text": [
            "Collecting gdown==4.6.0\n",
            "  Downloading gdown-4.6.0-py3-none-any.whl.metadata (4.4 kB)\n",
            "Requirement already satisfied: filelock in /usr/local/lib/python3.11/dist-packages (from gdown==4.6.0) (3.18.0)\n",
            "Requirement already satisfied: requests[socks] in /usr/local/lib/python3.11/dist-packages (from gdown==4.6.0) (2.32.3)\n",
            "Requirement already satisfied: six in /usr/local/lib/python3.11/dist-packages (from gdown==4.6.0) (1.17.0)\n",
            "Requirement already satisfied: tqdm in /usr/local/lib/python3.11/dist-packages (from gdown==4.6.0) (4.67.1)\n",
            "Requirement already satisfied: beautifulsoup4 in /usr/local/lib/python3.11/dist-packages (from gdown==4.6.0) (4.13.3)\n",
            "Requirement already satisfied: soupsieve>1.2 in /usr/local/lib/python3.11/dist-packages (from beautifulsoup4->gdown==4.6.0) (2.6)\n",
            "Requirement already satisfied: typing-extensions>=4.0.0 in /usr/local/lib/python3.11/dist-packages (from beautifulsoup4->gdown==4.6.0) (4.13.1)\n",
            "Requirement already satisfied: charset-normalizer<4,>=2 in /usr/local/lib/python3.11/dist-packages (from requests[socks]->gdown==4.6.0) (3.4.1)\n",
            "Requirement already satisfied: idna<4,>=2.5 in /usr/local/lib/python3.11/dist-packages (from requests[socks]->gdown==4.6.0) (3.10)\n",
            "Requirement already satisfied: urllib3<3,>=1.21.1 in /usr/local/lib/python3.11/dist-packages (from requests[socks]->gdown==4.6.0) (2.3.0)\n",
            "Requirement already satisfied: certifi>=2017.4.17 in /usr/local/lib/python3.11/dist-packages (from requests[socks]->gdown==4.6.0) (2025.1.31)\n",
            "Requirement already satisfied: PySocks!=1.5.7,>=1.5.6 in /usr/local/lib/python3.11/dist-packages (from requests[socks]->gdown==4.6.0) (1.7.1)\n",
            "Downloading gdown-4.6.0-py3-none-any.whl (14 kB)\n",
            "Installing collected packages: gdown\n",
            "  Attempting uninstall: gdown\n",
            "    Found existing installation: gdown 5.2.0\n",
            "    Uninstalling gdown-5.2.0:\n",
            "      Successfully uninstalled gdown-5.2.0\n",
            "Successfully installed gdown-4.6.0\n"
          ]
        }
      ],
      "source": [
        "!pip install gdown==4.6.0"
      ]
    },
    {
      "cell_type": "markdown",
      "source": [
        "Data google drive link của Hùng\n"
      ],
      "metadata": {
        "id": "KT_mjqwnQ-Mr"
      }
    },
    {
      "cell_type": "code",
      "source": [
        "import gdown\n",
        "!mkdir -p content/data\n",
        "# Download all files\n",
        "file_ids = [\n",
        "    '1JXdyh-UVveXhBToLJj8ZJNttiJif6zH8',  # X_train\n",
        "    '1rtyLyNDBr3sPcyElMhpDPK3qTbNZH1YT',  # X_test\n",
        "    '1IkNvEhPFfano0qSDZFWhsmpF3ttC1q0Y',  # y_train\n",
        "    '1JlMWumYQP9OIH79dVsCiZ-eavZAhgSzv'   # y_test\n",
        "]\n",
        "\n",
        "file_paths = [\n",
        "    'content/data/X_train.csv',\n",
        "    'content/data/X_test.csv',\n",
        "    'content/data/y_train.csv',\n",
        "    'content/data/y_test.csv'\n",
        "]\n",
        "for file_id, file_path in zip(file_ids, file_paths):\n",
        "    gdown.download(f'https://drive.google.com/uc?id={file_id}', file_path, quiet=False)"
      ],
      "metadata": {
        "colab": {
          "base_uri": "https://localhost:8080/"
        },
        "id": "Q5eKWUVbRCw0",
        "outputId": "509ebcf0-3c16-4bbc-feed-6de1b7652180"
      },
      "execution_count": 2,
      "outputs": [
        {
          "output_type": "stream",
          "name": "stderr",
          "text": [
            "Downloading...\n",
            "From: https://drive.google.com/uc?id=1JXdyh-UVveXhBToLJj8ZJNttiJif6zH8\n",
            "To: /content/content/data/X_train.csv\n",
            "100%|██████████| 5.03M/5.03M [00:00<00:00, 26.9MB/s]\n",
            "Downloading...\n",
            "From: https://drive.google.com/uc?id=1rtyLyNDBr3sPcyElMhpDPK3qTbNZH1YT\n",
            "To: /content/content/data/X_test.csv\n",
            "100%|██████████| 1.34M/1.34M [00:00<00:00, 129MB/s]\n",
            "Downloading...\n",
            "From: https://drive.google.com/uc?id=1IkNvEhPFfano0qSDZFWhsmpF3ttC1q0Y\n",
            "To: /content/content/data/y_train.csv\n",
            "100%|██████████| 16.9k/16.9k [00:00<00:00, 24.6MB/s]\n",
            "Downloading...\n",
            "From: https://drive.google.com/uc?id=1JlMWumYQP9OIH79dVsCiZ-eavZAhgSzv\n",
            "To: /content/content/data/y_test.csv\n",
            "100%|██████████| 4.24k/4.24k [00:00<00:00, 8.60MB/s]\n"
          ]
        }
      ]
    },
    {
      "cell_type": "markdown",
      "source": [
        "Kiểm tra data"
      ],
      "metadata": {
        "id": "JRLI49vgR5VO"
      }
    },
    {
      "cell_type": "code",
      "source": [
        "# Đọc file CSV\n",
        "import pandas as pd\n",
        "df_x_train = pd.read_csv('content/data/X_train.csv')\n",
        "df_x_test = pd.read_csv('content/data/X_test.csv')\n",
        "df_y_train = pd.read_csv('content/data/y_train.csv')\n",
        "df_y_test = pd.read_csv('content/data/y_test.csv')\n",
        "\n",
        "# Hiển thị thông tin và cột\n",
        "print(\"\\n🟦 X_train:\")\n",
        "print(df_x_train.info())\n",
        "print(\"Tên cột:\", df_x_train.columns.tolist())\n",
        "\n",
        "print(\"\\n🟨 X_test:\")\n",
        "print(df_x_test.info())\n",
        "print(\"Tên cột:\", df_x_test.columns.tolist())\n",
        "\n",
        "print(\"\\n🟩 y_train:\")\n",
        "print(df_y_train.info())\n",
        "print(\"Tên cột:\", df_y_train.columns.tolist())\n",
        "\n",
        "print(\"\\n🟥 y_test:\")\n",
        "print(df_y_test.info())\n",
        "print(\"Tên cột:\", df_y_test.columns.tolist())\n"
      ],
      "metadata": {
        "colab": {
          "base_uri": "https://localhost:8080/"
        },
        "id": "SOpT8T2zR7jT",
        "outputId": "90d4a28d-0b59-4518-dc80-26b15dd7baae"
      },
      "execution_count": 6,
      "outputs": [
        {
          "output_type": "stream",
          "name": "stdout",
          "text": [
            "\n",
            "🟦 X_train:\n",
            "<class 'pandas.core.frame.DataFrame'>\n",
            "RangeIndex: 8457 entries, 0 to 8456\n",
            "Data columns (total 1 columns):\n",
            " #   Column   Non-Null Count  Dtype \n",
            "---  ------   --------------  ----- \n",
            " 0   message  8445 non-null   object\n",
            "dtypes: object(1)\n",
            "memory usage: 66.2+ KB\n",
            "None\n",
            "Tên cột: ['message']\n",
            "\n",
            "🟨 X_test:\n",
            "<class 'pandas.core.frame.DataFrame'>\n",
            "RangeIndex: 2115 entries, 0 to 2114\n",
            "Data columns (total 1 columns):\n",
            " #   Column   Non-Null Count  Dtype \n",
            "---  ------   --------------  ----- \n",
            " 0   message  2114 non-null   object\n",
            "dtypes: object(1)\n",
            "memory usage: 16.7+ KB\n",
            "None\n",
            "Tên cột: ['message']\n",
            "\n",
            "🟩 y_train:\n",
            "<class 'pandas.core.frame.DataFrame'>\n",
            "RangeIndex: 8457 entries, 0 to 8456\n",
            "Data columns (total 1 columns):\n",
            " #   Column    Non-Null Count  Dtype\n",
            "---  ------    --------------  -----\n",
            " 0   category  8457 non-null   int64\n",
            "dtypes: int64(1)\n",
            "memory usage: 66.2 KB\n",
            "None\n",
            "Tên cột: ['category']\n",
            "\n",
            "🟥 y_test:\n",
            "<class 'pandas.core.frame.DataFrame'>\n",
            "RangeIndex: 2115 entries, 0 to 2114\n",
            "Data columns (total 1 columns):\n",
            " #   Column    Non-Null Count  Dtype\n",
            "---  ------    --------------  -----\n",
            " 0   category  2115 non-null   int64\n",
            "dtypes: int64(1)\n",
            "memory usage: 16.7 KB\n",
            "None\n",
            "Tên cột: ['category']\n"
          ]
        }
      ]
    },
    {
      "cell_type": "code",
      "source": [
        "import pandas as pd"
      ],
      "metadata": {
        "id": "a5wMwMyaUFbK"
      },
      "execution_count": null,
      "outputs": []
    },
    {
      "cell_type": "markdown",
      "source": [
        "Với TF-IDF, ta chọn các siêu tham số k, khoảng cách, số chiều vector"
      ],
      "metadata": {
        "id": "2KWUoXGGTBvF"
      }
    },
    {
      "cell_type": "code",
      "source": [
        "# 1. Import các thư viện cần thiết\n",
        "import pandas as pd\n",
        "import numpy as np\n",
        "from sklearn.feature_extraction.text import TfidfVectorizer\n",
        "from sklearn.model_selection import GridSearchCV\n",
        "from sklearn.preprocessing import StandardScaler, LabelEncoder\n",
        "from sklearn.neighbors import KNeighborsClassifier\n",
        "from sklearn.metrics import accuracy_score, classification_report\n",
        "from nltk.stem import WordNetLemmatizer\n",
        "from nltk.tokenize import word_tokenize\n",
        "import nltk\n",
        "import string\n",
        "import re\n",
        "\n",
        "# 2. Tải dữ liệu từ nltk\n",
        "nltk.download('punkt')\n",
        "nltk.download('wordnet')\n",
        "nltk.download('omw-1.4')\n",
        "\n",
        "# 3. Đọc dữ liệu từ file CSV\n",
        "# Chú ý cập nhật đường dẫn đúng nếu sử dụng file của bạn\n",
        "# df_x_train = pd.read_csv('path_to_X_train.csv')\n",
        "# df_x_test = pd.read_csv('path_to_X_test.csv')\n",
        "# df_y_train = pd.read_csv('path_to_y_train.csv')\n",
        "# df_y_test = pd.read_csv('path_to_y_test.csv')\n",
        "\n",
        "# 4. Xử lý dữ liệu đầu vào\n",
        "# Làm sạch dữ liệu\n",
        "df_x_train['message'] = df_x_train['message'].fillna('')  # Xử lý NaN\n",
        "df_x_test['message'] = df_x_test['message'].fillna('')\n",
        "\n",
        "X_raw = df_x_train['message']\n",
        "y = df_y_train['category']\n",
        "\n",
        "# 5. Mã hóa nhãn\n",
        "le = LabelEncoder()\n",
        "y_encoded = le.fit_transform(y)\n",
        "\n",
        "# 6. Hàm tiền xử lý văn bản nâng cao\n",
        "lemmatizer = WordNetLemmatizer()\n",
        "\n",
        "def preprocess(text):\n",
        "    text = text.lower()  # Lowercasing\n",
        "    text = re.sub(r'\\d+', '', text)  # Remove numbers\n",
        "    text = text.translate(str.maketrans('', '', string.punctuation))  # Remove punctuation\n",
        "    tokens = word_tokenize(text)  # Tokenize\n",
        "    lemmatized = [lemmatizer.lemmatize(token) for token in tokens if token.isalpha()]  # Lemmatization & remove non-alpha\n",
        "    return ' '.join(lemmatized)\n",
        "\n",
        "df_x_train['message'] = df_x_train['message'].apply(preprocess)\n",
        "df_x_test['message'] = df_x_test['message'].apply(preprocess)\n",
        "\n",
        "# 7. So sánh các kích thước TF-IDF khác nhau và chọn số chiều tốt nhất\n",
        "feature_sizes = [3000, 4000, 5000]  # Các số chiều khác nhau để thử\n",
        "best_accuracy = 0\n",
        "best_max_feat = 0\n",
        "\n",
        "for max_feat in feature_sizes:\n",
        "    # TF-IDF vectorization với 3-grams\n",
        "    vectorizer = TfidfVectorizer(max_features=max_feat, stop_words='english', ngram_range=(1, 3))\n",
        "    X_tfidf = vectorizer.fit_transform(df_x_train['message'])\n",
        "\n",
        "    # Scale dữ liệu\n",
        "    scaler = StandardScaler(with_mean=False)\n",
        "    X_train_scaled = scaler.fit_transform(X_tfidf)\n",
        "    X_test_tfidf = vectorizer.transform(df_x_test['message'])\n",
        "    X_test_scaled = scaler.transform(X_test_tfidf)\n",
        "\n",
        "    # GridSearch để tìm KNN tốt nhất\n",
        "    param_grid = {\n",
        "        'n_neighbors': [5, 9, 13, 17],\n",
        "        'metric': ['euclidean', 'cosine']\n",
        "    }\n",
        "\n",
        "    grid = GridSearchCV(KNeighborsClassifier(), param_grid, cv=3, scoring='accuracy', n_jobs=-1)\n",
        "    grid.fit(X_train_scaled, y_encoded)\n",
        "\n",
        "    # Dự đoán và tính accuracy\n",
        "    y_pred = grid.best_estimator_.predict(X_test_scaled)\n",
        "    accuracy = accuracy_score(df_y_test['category'], le.inverse_transform(y_pred))\n",
        "\n",
        "    if accuracy > best_accuracy:\n",
        "        best_accuracy = accuracy\n",
        "        best_max_feat = max_feat\n",
        "\n",
        "# Sau khi loop qua tất cả các số chiều, in ra kết quả\n",
        "print(f\"\\n==================== Best TF-IDF max_features={best_max_feat} with Accuracy={best_accuracy} ====================\")\n",
        "\n",
        "# Dùng số chiều tốt nhất để huấn luyện lại mô hình\n",
        "vectorizer = TfidfVectorizer(max_features=best_max_feat, stop_words='english', ngram_range=(1, 3))\n",
        "X_tfidf = vectorizer.fit_transform(df_x_train['message'])\n",
        "\n",
        "# Scale dữ liệu\n",
        "scaler = StandardScaler(with_mean=False)\n",
        "X_train_scaled = scaler.fit_transform(X_tfidf)\n",
        "X_test_tfidf = vectorizer.transform(df_x_test['message'])\n",
        "X_test_scaled = scaler.transform(X_test_tfidf)\n",
        "\n",
        "# Huấn luyện lại KNN với số chiều tốt nhất\n",
        "grid = GridSearchCV(KNeighborsClassifier(), param_grid, cv=3, scoring='accuracy', n_jobs=-1)\n",
        "grid.fit(X_train_scaled, y_encoded)\n",
        "\n",
        "# In kết quả cuối cùng\n",
        "y_pred = grid.best_estimator_.predict(X_test_scaled)\n",
        "print(\"Best KNN Parameters:\", grid.best_params_)\n",
        "print(\"Accuracy:\", accuracy_score(df_y_test['category'], y_pred))\n",
        "print(\"Classification Report:\\n\", classification_report(le.inverse_transform(df_y_test['category']), le.inverse_transform(y_pred)))\n"
      ],
      "metadata": {
        "colab": {
          "base_uri": "https://localhost:8080/"
        },
        "id": "64HnqC4RVgMQ",
        "outputId": "91fb542f-8a1f-4158-f049-d4abc596f986"
      },
      "execution_count": 10,
      "outputs": [
        {
          "output_type": "stream",
          "name": "stderr",
          "text": [
            "[nltk_data] Downloading package punkt to /root/nltk_data...\n",
            "[nltk_data]   Package punkt is already up-to-date!\n",
            "[nltk_data] Downloading package wordnet to /root/nltk_data...\n",
            "[nltk_data]   Package wordnet is already up-to-date!\n",
            "[nltk_data] Downloading package omw-1.4 to /root/nltk_data...\n",
            "[nltk_data]   Package omw-1.4 is already up-to-date!\n"
          ]
        },
        {
          "output_type": "stream",
          "name": "stdout",
          "text": [
            "\n",
            "==================== Best TF-IDF max_features=5000 with Accuracy=0.8959810874704491 ====================\n",
            "Best KNN Parameters: {'metric': 'cosine', 'n_neighbors': 17}\n",
            "Accuracy: 0.8959810874704491\n",
            "Classification Report:\n",
            "               precision    recall  f1-score   support\n",
            "\n",
            "           0       0.91      0.96      0.93      1566\n",
            "           1       0.86      0.72      0.78       549\n",
            "\n",
            "    accuracy                           0.90      2115\n",
            "   macro avg       0.88      0.84      0.86      2115\n",
            "weighted avg       0.89      0.90      0.89      2115\n",
            "\n"
          ]
        }
      ]
    },
    {
      "cell_type": "markdown",
      "source": [
        "Với Word embedding: Word2vec"
      ],
      "metadata": {
        "id": "SBziwDTjX6vh"
      }
    },
    {
      "cell_type": "markdown",
      "source": [
        "TF-IDF+ SentenceStransformer+PCA"
      ],
      "metadata": {
        "id": "yNEEScX6cLFM"
      }
    },
    {
      "cell_type": "code",
      "source": [
        "# 1. Import các thư viện cần thiết\n",
        "import pandas as pd\n",
        "import numpy as np\n",
        "from sklearn.feature_extraction.text import TfidfVectorizer\n",
        "from sklearn.model_selection import GridSearchCV\n",
        "from sklearn.preprocessing import StandardScaler, LabelEncoder\n",
        "from sklearn.neighbors import KNeighborsClassifier\n",
        "from sklearn.metrics import accuracy_score, classification_report\n",
        "from nltk.stem import WordNetLemmatizer\n",
        "from nltk.tokenize import word_tokenize\n",
        "import nltk\n",
        "import string\n",
        "import re\n",
        "from sentence_transformers import SentenceTransformer\n",
        "from scipy.sparse import csr_matrix, hstack\n",
        "from sklearn.decomposition import PCA\n",
        "import logging\n",
        "\n",
        "# 2. Tắt warning không cần thiết\n",
        "logging.getLogger(\"huggingface_hub\").setLevel(logging.ERROR)\n",
        "logging.getLogger(\"sentence_transformers.SentenceTransformer\").setLevel(logging.ERROR)\n",
        "\n",
        "# 3. Tải dữ liệu từ nltk\n",
        "nltk.download('punkt')\n",
        "nltk.download('wordnet')\n",
        "nltk.download('omw-1.4')\n",
        "\n",
        "# 4. Đọc dữ liệu từ file CSV\n",
        "# df_x_train = pd.read_csv('path_to_X_train.csv')\n",
        "# df_x_test = pd.read_csv('path_to_X_test.csv')\n",
        "# df_y_train = pd.read_csv('path_to_y_train.csv')\n",
        "# df_y_test = pd.read_csv('path_to_y_test.csv')\n",
        "\n",
        "# 5. Xử lý dữ liệu đầu vào\n",
        "df_x_train['message'] = df_x_train['message'].fillna('')\n",
        "df_x_test['message'] = df_x_test['message'].fillna('')\n",
        "X_raw = df_x_train['message']\n",
        "y = df_y_train['category']\n",
        "\n",
        "# 6. Mã hóa nhãn\n",
        "le = LabelEncoder()\n",
        "y_encoded = le.fit_transform(y)\n",
        "\n",
        "# 7. Hàm tiền xử lý văn bản nâng cao\n",
        "lemmatizer = WordNetLemmatizer()\n",
        "def preprocess(text):\n",
        "    text = text.lower()\n",
        "    text = re.sub(r'\\d+', '', text)\n",
        "    text = text.translate(str.maketrans('', '', string.punctuation))\n",
        "    tokens = word_tokenize(text)\n",
        "    lemmatized = [lemmatizer.lemmatize(token) for token in tokens if token.isalpha()]\n",
        "    return ' '.join(lemmatized)\n",
        "\n",
        "df_x_train['message'] = df_x_train['message'].apply(preprocess)\n",
        "df_x_test['message'] = df_x_test['message'].apply(preprocess)\n",
        "\n",
        "# 8. Tải mô hình embedding\n",
        "embed_model = SentenceTransformer('all-MiniLM-L6-v2')\n",
        "\n",
        "# 9. Chọn giá trị max_features\n",
        "max_feat = 3000  # hoặc giá trị bạn muốn\n",
        "param_grid = {\n",
        "    'n_neighbors': [17],\n",
        "    'metric': ['cosine']\n",
        "}\n",
        "\n",
        "# TF-IDF vectorization\n",
        "vectorizer = TfidfVectorizer(max_features=max_feat, stop_words='english', ngram_range=(1, 3))\n",
        "X_tfidf = vectorizer.fit_transform(df_x_train['message'])\n",
        "\n",
        "# Sentence embedding\n",
        "X_embed = embed_model.encode(df_x_train['message'], show_progress_bar=False)\n",
        "X_embed_sparse = csr_matrix(X_embed)\n",
        "\n",
        "# Combine TF-IDF + Embedding\n",
        "X_combined = hstack([X_tfidf, X_embed_sparse])\n",
        "\n",
        "# Test data\n",
        "X_test_tfidf = vectorizer.transform(df_x_test['message'])\n",
        "X_test_embed = embed_model.encode(df_x_test['message'], show_progress_bar=False)\n",
        "X_test_embed_sparse = csr_matrix(X_test_embed)\n",
        "X_test_combined = hstack([X_test_tfidf, X_test_embed_sparse])\n",
        "\n",
        "# Scale dữ liệu\n",
        "scaler = StandardScaler(with_mean=False)\n",
        "X_train_scaled = scaler.fit_transform(X_combined)\n",
        "X_test_scaled = scaler.transform(X_test_combined)\n",
        "\n",
        "# PCA giảm chiều xuống 200 chiều\n",
        "pca = PCA(n_components=200)\n",
        "X_train_pca = pca.fit_transform(X_train_scaled.toarray())\n",
        "X_test_pca = pca.transform(X_test_scaled.toarray())\n",
        "\n",
        "# Grid search\n",
        "grid = GridSearchCV(KNeighborsClassifier(), param_grid, cv=3, scoring='accuracy', n_jobs=-1)\n",
        "grid.fit(X_train_pca, y_encoded)\n",
        "\n",
        "y_pred = grid.best_estimator_.predict(X_test_pca)\n",
        "\n",
        "print(\"Best KNN Parameters:\", grid.best_params_)\n",
        "print(\"Accuracy:\", accuracy_score(df_y_test['category'], y_pred))\n",
        "print(\"Classification Report:\\n\", classification_report(le.inverse_transform(df_y_test['category']), le.inverse_transform(y_pred)))\n"
      ],
      "metadata": {
        "colab": {
          "base_uri": "https://localhost:8080/"
        },
        "id": "sNMHvSc3kktN",
        "outputId": "e26fcce3-c261-4fca-e9bb-412a0b79ad3a"
      },
      "execution_count": 9,
      "outputs": [
        {
          "output_type": "stream",
          "name": "stderr",
          "text": [
            "[nltk_data] Downloading package punkt to /root/nltk_data...\n",
            "[nltk_data]   Package punkt is already up-to-date!\n",
            "[nltk_data] Downloading package wordnet to /root/nltk_data...\n",
            "[nltk_data]   Package wordnet is already up-to-date!\n",
            "[nltk_data] Downloading package omw-1.4 to /root/nltk_data...\n",
            "[nltk_data]   Package omw-1.4 is already up-to-date!\n"
          ]
        },
        {
          "output_type": "stream",
          "name": "stdout",
          "text": [
            "Best KNN Parameters: {'metric': 'cosine', 'n_neighbors': 17}\n",
            "Accuracy: 0.9361702127659575\n",
            "Classification Report:\n",
            "               precision    recall  f1-score   support\n",
            "\n",
            "           0       0.96      0.95      0.96      1566\n",
            "           1       0.87      0.89      0.88       549\n",
            "\n",
            "    accuracy                           0.94      2115\n",
            "   macro avg       0.92      0.92      0.92      2115\n",
            "weighted avg       0.94      0.94      0.94      2115\n",
            "\n"
          ]
        }
      ]
    }
  ]
}