{
  "cells": [
    {
      "cell_type": "code",
      "execution_count": null,
      "metadata": {
        "colab": {
          "base_uri": "https://localhost:8080/"
        },
        "id": "hjdY-PlZzF1Y",
        "outputId": "6c410a34-605d-4915-fd70-d7aa71cd5fc9"
      },
      "outputs": [
        {
          "name": "stdout",
          "output_type": "stream",
          "text": [
            "Requirement already satisfied: gdown==4.6.0 in /usr/local/lib/python3.11/dist-packages (4.6.0)\n",
            "Requirement already satisfied: filelock in /usr/local/lib/python3.11/dist-packages (from gdown==4.6.0) (3.18.0)\n",
            "Requirement already satisfied: requests[socks] in /usr/local/lib/python3.11/dist-packages (from gdown==4.6.0) (2.32.3)\n",
            "Requirement already satisfied: six in /usr/local/lib/python3.11/dist-packages (from gdown==4.6.0) (1.17.0)\n",
            "Requirement already satisfied: tqdm in /usr/local/lib/python3.11/dist-packages (from gdown==4.6.0) (4.67.1)\n",
            "Requirement already satisfied: beautifulsoup4 in /usr/local/lib/python3.11/dist-packages (from gdown==4.6.0) (4.13.3)\n",
            "Requirement already satisfied: soupsieve>1.2 in /usr/local/lib/python3.11/dist-packages (from beautifulsoup4->gdown==4.6.0) (2.6)\n",
            "Requirement already satisfied: typing-extensions>=4.0.0 in /usr/local/lib/python3.11/dist-packages (from beautifulsoup4->gdown==4.6.0) (4.13.1)\n",
            "Requirement already satisfied: charset-normalizer<4,>=2 in /usr/local/lib/python3.11/dist-packages (from requests[socks]->gdown==4.6.0) (3.4.1)\n",
            "Requirement already satisfied: idna<4,>=2.5 in /usr/local/lib/python3.11/dist-packages (from requests[socks]->gdown==4.6.0) (3.10)\n",
            "Requirement already satisfied: urllib3<3,>=1.21.1 in /usr/local/lib/python3.11/dist-packages (from requests[socks]->gdown==4.6.0) (2.3.0)\n",
            "Requirement already satisfied: certifi>=2017.4.17 in /usr/local/lib/python3.11/dist-packages (from requests[socks]->gdown==4.6.0) (2025.1.31)\n",
            "Requirement already satisfied: PySocks!=1.5.7,>=1.5.6 in /usr/local/lib/python3.11/dist-packages (from requests[socks]->gdown==4.6.0) (1.7.1)\n"
          ]
        }
      ],
      "source": [
        "!pip install gdown==4.6.0"
      ]
    },
    {
      "cell_type": "markdown",
      "metadata": {
        "id": "G69JrOM-0q_w"
      },
      "source": [
        "## Lấy data từ Google Drive"
      ]
    },
    {
      "cell_type": "code",
      "execution_count": null,
      "metadata": {
        "colab": {
          "base_uri": "https://localhost:8080/"
        },
        "id": "lIufma6kzTpE",
        "outputId": "03236841-13d3-4d92-bb2f-4c49af912458"
      },
      "outputs": [
        {
          "name": "stderr",
          "output_type": "stream",
          "text": [
            "Downloading...\n",
            "From: https://drive.google.com/uc?id=1JXdyh-UVveXhBToLJj8ZJNttiJif6zH8\n",
            "To: /content/content/data/X_train.csv\n",
            "100%|██████████| 5.03M/5.03M [00:00<00:00, 48.4MB/s]\n",
            "Downloading...\n",
            "From: https://drive.google.com/uc?id=1rtyLyNDBr3sPcyElMhpDPK3qTbNZH1YT\n",
            "To: /content/content/data/X_test.csv\n",
            "100%|██████████| 1.34M/1.34M [00:00<00:00, 21.1MB/s]\n",
            "Downloading...\n",
            "From: https://drive.google.com/uc?id=1IkNvEhPFfano0qSDZFWhsmpF3ttC1q0Y\n",
            "To: /content/content/data/y_train.csv\n",
            "100%|██████████| 16.9k/16.9k [00:00<00:00, 28.0MB/s]\n",
            "Downloading...\n",
            "From: https://drive.google.com/uc?id=1JlMWumYQP9OIH79dVsCiZ-eavZAhgSzv\n",
            "To: /content/content/data/y_test.csv\n",
            "100%|██████████| 4.24k/4.24k [00:00<00:00, 8.14MB/s]\n"
          ]
        }
      ],
      "source": [
        "import gdown\n",
        "!mkdir -p content/data\n",
        "# Download all files\n",
        "file_ids = [\n",
        "    '1JXdyh-UVveXhBToLJj8ZJNttiJif6zH8',  # X_train\n",
        "    '1rtyLyNDBr3sPcyElMhpDPK3qTbNZH1YT',  # X_test\n",
        "    '1IkNvEhPFfano0qSDZFWhsmpF3ttC1q0Y',  # y_train\n",
        "    '1JlMWumYQP9OIH79dVsCiZ-eavZAhgSzv'   # y_test\n",
        "]\n",
        "\n",
        "file_paths = [\n",
        "    'content/data/X_train.csv',\n",
        "    'content/data/X_test.csv',\n",
        "    'content/data/y_train.csv',\n",
        "    'content/data/y_test.csv'\n",
        "]\n",
        "for file_id, file_path in zip(file_ids, file_paths):\n",
        "    gdown.download(f'https://drive.google.com/uc?id={file_id}', file_path, quiet=False)"
      ]
    },
    {
      "cell_type": "code",
      "execution_count": null,
      "metadata": {
        "colab": {
          "base_uri": "https://localhost:8080/"
        },
        "id": "RFj6nxTa0NE5",
        "outputId": "419c1746-84d4-4ea6-ab0e-02cd839465e4"
      },
      "outputs": [
        {
          "name": "stdout",
          "output_type": "stream",
          "text": [
            "(8457, 1)\n",
            "(2115, 1)\n",
            "(8457, 1)\n",
            "(2115, 1)\n"
          ]
        }
      ],
      "source": [
        "import pandas as pd\n",
        "from sklearn.feature_extraction.text import TfidfVectorizer\n",
        "from sklearn.ensemble import RandomForestClassifier\n",
        "from sklearn.model_selection import train_test_split\n",
        "from sklearn.preprocessing import LabelEncoder\n",
        "from sklearn.metrics import classification_report\n",
        "\n",
        "X_train = pd.read_csv('content/data/X_train.csv',header=0,keep_default_na=False)\n",
        "X_test = pd.read_csv('content/data/X_test.csv',header=0,keep_default_na=False)\n",
        "y_train = pd.read_csv('content/data/y_train.csv',header=0,keep_default_na=False)\n",
        "y_test = pd.read_csv('content/data/y_test.csv',header=0,keep_default_na=False)\n",
        "\n",
        "print(X_train.shape)\n",
        "print(X_test.shape)\n",
        "print(y_train.shape)\n",
        "print(y_test.shape)"
      ]
    },
    {
      "cell_type": "markdown",
      "metadata": {
        "id": "WJWZUd0J0jnU"
      },
      "source": [
        "## Chỉ dùng TF-IDF"
      ]
    },
    {
      "cell_type": "code",
      "execution_count": null,
      "metadata": {
        "colab": {
          "base_uri": "https://localhost:8080/"
        },
        "id": "pK8pdIXR0ZTi",
        "outputId": "a966a740-0c13-42bf-fdb8-12e3c781860e"
      },
      "outputs": [
        {
          "name": "stdout",
          "output_type": "stream",
          "text": [
            "              precision    recall  f1-score   support\n",
            "\n",
            "         ham       0.96      0.97      0.97      1566\n",
            "        junk       0.92      0.87      0.90       549\n",
            "\n",
            "    accuracy                           0.95      2115\n",
            "   macro avg       0.94      0.92      0.93      2115\n",
            "weighted avg       0.95      0.95      0.95      2115\n",
            "\n"
          ]
        }
      ],
      "source": [
        "from sklearn.feature_extraction.text import TfidfVectorizer\n",
        "from sklearn.ensemble import RandomForestClassifier\n",
        "from sklearn.metrics import classification_report\n",
        "\n",
        "# Chuyển các DataFrame 1 cột này thành Series\n",
        "X_train = pd.read_csv('content/data/X_train.csv',header=0,keep_default_na=False)\n",
        "X_test = pd.read_csv('content/data/X_test.csv',header=0,keep_default_na=False)\n",
        "y_train = pd.read_csv('content/data/y_train.csv',header=0,keep_default_na=False)\n",
        "y_test = pd.read_csv('content/data/y_test.csv',header=0,keep_default_na=False)\n",
        "X_train = X_train.squeeze()\n",
        "X_test = X_test.squeeze()\n",
        "y_train = y_train.squeeze()\n",
        "y_test = y_test.squeeze()\n",
        "\n",
        "# Vector hóa TF-IDF\n",
        "tfidf = TfidfVectorizer(max_features=1000)\n",
        "X_train_tfidf = tfidf.fit_transform(X_train)\n",
        "X_test_tfidf = tfidf.transform(X_test)\n",
        "\n",
        "# Huấn luyện mô hình\n",
        "model = RandomForestClassifier(n_estimators=100, random_state=42)\n",
        "model.fit(X_train_tfidf, y_train)\n",
        "\n",
        "# Dự đoán và đánh giá\n",
        "y_pred = model.predict(X_test_tfidf)\n",
        "print(classification_report(y_test, y_pred, target_names=['ham', 'junk']))\n"
      ]
    },
    {
      "cell_type": "markdown",
      "metadata": {
        "id": "6zNTZhFi0ecU"
      },
      "source": [
        "## Kết hợp TF-IDF và Embedding"
      ]
    },
    {
      "cell_type": "code",
      "execution_count": null,
      "metadata": {
        "colab": {
          "background_save": true
        },
        "id": "SU42fIA3u0pS",
        "outputId": "1e54e683-00d0-4b53-bbd8-9b0a21334236"
      },
      "outputs": [
        {
          "name": "stdout",
          "output_type": "stream",
          "text": [
            "              precision    recall  f1-score   support\n",
            "\n",
            "         ham       0.96      0.99      0.97      1566\n",
            "        junk       0.96      0.87      0.91       549\n",
            "\n",
            "    accuracy                           0.96      2115\n",
            "   macro avg       0.96      0.93      0.94      2115\n",
            "weighted avg       0.96      0.96      0.95      2115\n",
            "\n"
          ]
        }
      ],
      "source": [
        "import numpy as np\n",
        "import pandas as pd\n",
        "from sklearn.feature_extraction.text import TfidfVectorizer\n",
        "from sklearn.decomposition import TruncatedSVD\n",
        "from sklearn.ensemble import RandomForestClassifier\n",
        "from sklearn.model_selection import train_test_split\n",
        "from sklearn.preprocessing import LabelEncoder, StandardScaler\n",
        "from sklearn.metrics import classification_report\n",
        "from sentence_transformers import SentenceTransformer\n",
        "from scipy.sparse import csr_matrix, hstack\n",
        "from sklearn.decomposition import PCA\n",
        "import logging\n",
        "logging.getLogger(\"huggingface_hub\").setLevel(logging.ERROR)\n",
        "logging.getLogger(\"sentence_transformers.SentenceTransformer\").setLevel(logging.ERROR)\n",
        "# Tf-idf ở shell trước\n",
        "\n",
        "# Giảm chiều TF-IDF bằng TruncatedSVD\n",
        "# svd = TruncatedSVD(n_components=300, random_state=42)\n",
        "# X_tfidf_reduced = svd.fit_transform(X_tfidf)\n",
        "\n",
        "# Embedding bằng all-MiniLM-L6-v2\n",
        "embedder = SentenceTransformer(\"all-MiniLM-L6-v2\")\n",
        "X_train_embed = embedder.encode(X_train, convert_to_numpy=True)\n",
        "X_test_embed = embedder.encode(X_test, convert_to_numpy=True)\n",
        "\n",
        "pca = PCA(n_components=100)  # Giảm còn 100 chiều\n",
        "X_train_embed_reduced = pca.fit_transform(X_train_embed)\n",
        "X_test_embed_reduced = pca.transform(X_test_embed)\n",
        "\n",
        "# Chuẩn hóa cả hai phần\n",
        "scaler = StandardScaler()\n",
        "X_train_embed_sparse = csr_matrix(X_train_embed_reduced)  # Convert numpy → sparse\n",
        "X_train_combined = hstack([X_train_tfidf, X_train_embed_sparse])\n",
        "X_test_embed_sparse = csr_matrix(X_test_embed_reduced)\n",
        "X_test_combined = hstack([X_test_tfidf, X_test_embed_sparse])\n",
        "\n",
        "\n",
        "# Huấn luyện Random Forest\n",
        "model = RandomForestClassifier(n_estimators=100, random_state=42)\n",
        "model.fit(X_train_combined, y_train)\n",
        "\n",
        "# Đánh giá\n",
        "y_pred = model.predict(X_test_combined)\n",
        "print(classification_report(y_test, y_pred, target_names=['ham', 'junk']))"
      ]
    }
  ],
  "metadata": {
    "colab": {
      "provenance": []
    },
    "kernelspec": {
      "display_name": "Python 3",
      "name": "python3"
    },
    "language_info": {
      "name": "python"
    }
  },
  "nbformat": 4,
  "nbformat_minor": 0
}