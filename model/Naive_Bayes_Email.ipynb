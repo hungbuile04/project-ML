{
 "nbformat": 4,
 "nbformat_minor": 0,
 "metadata": {
  "colab": {
   "provenance": []
  },
  "kernelspec": {
   "name": "python3",
   "display_name": "Python 3"
  },
  "language_info": {
   "name": "python"
  }
 },
 "cells": [
  {
   "cell_type": "code",
   "source": [
    "import pandas as pd\n",
    "import string\n",
    "from nltk.corpus import stopwords\n",
    "from nltk import PorterStemmer as Stemmer\n",
    "from sklearn.feature_extraction.text import TfidfVectorizer, CountVectorizer\n",
    "from sklearn.model_selection import train_test_split\n",
    "from sklearn.naive_bayes import MultinomialNB\n",
    "from sklearn.metrics import classification_report, accuracy_score"
   ],
   "metadata": {
    "id": "MOm2wC28EtkQ",
    "jupyter": {
     "is_executing": true
    }
   },
   "outputs": [],
   "execution_count": null
  },
  {
   "cell_type": "code",
   "source": [
    "import nltk\n",
    "nltk.download('stopwords')\n"
   ],
   "metadata": {
    "colab": {
     "base_uri": "https://localhost:8080/"
    },
    "id": "GClc8DR7sR_N",
    "outputId": "d200cbf2-f11a-4637-dd40-2a5520615715"
   },
   "execution_count": null,
   "outputs": [
    {
     "output_type": "stream",
     "name": "stderr",
     "text": [
      "[nltk_data] Downloading package stopwords to /root/nltk_data...\n",
      "[nltk_data]   Unzipping corpora/stopwords.zip.\n"
     ]
    },
    {
     "output_type": "execute_result",
     "data": {
      "text/plain": [
       "True"
      ]
     },
     "metadata": {},
     "execution_count": 2
    }
   ]
  },
  {
   "cell_type": "code",
   "source": [
    "df = pd.read_csv('email_data.csv')\n",
    "print(df.head())"
   ],
   "metadata": {
    "colab": {
     "base_uri": "https://localhost:8080/"
    },
    "id": "LGlC3RGkUnjx",
    "outputId": "f8a1fd6a-c507-4f1c-f185-1664caa070b7"
   },
   "execution_count": null,
   "outputs": [
    {
     "output_type": "stream",
     "name": "stdout",
     "text": [
      "                                             message category\n",
      "0  Go until jurong point, crazy.. Available only ...      ham\n",
      "1                      Ok lar... Joking wif u oni...      ham\n",
      "2  Free entry in 2 a wkly comp to win FA Cup fina...     junk\n",
      "3  U dun say so early hor... U c already then say...      ham\n",
      "4  Nah I don't think he goes to usf, he lives aro...      ham\n"
     ]
    }
   ]
  },
  {
   "cell_type": "code",
   "source": [
    "print(\"Number of rows are: \",df.shape[0])\n",
    "print(\"Number of columns are: \",df.shape[1])\n",
    "df.info()"
   ],
   "metadata": {
    "colab": {
     "base_uri": "https://localhost:8080/"
    },
    "id": "pXVriDF3Ut1V",
    "outputId": "0e4687b4-9df6-4718-dd83-cfea46251947"
   },
   "execution_count": null,
   "outputs": [
    {
     "output_type": "stream",
     "name": "stdout",
     "text": [
      "Number of rows are:  10572\n",
      "Number of columns are:  2\n",
      "<class 'pandas.core.frame.DataFrame'>\n",
      "RangeIndex: 10572 entries, 0 to 10571\n",
      "Data columns (total 2 columns):\n",
      " #   Column    Non-Null Count  Dtype \n",
      "---  ------    --------------  ----- \n",
      " 0   message   10564 non-null  object\n",
      " 1   category  10572 non-null  object\n",
      "dtypes: object(2)\n",
      "memory usage: 165.3+ KB\n"
     ]
    }
   ]
  },
  {
   "cell_type": "code",
   "source": [
    "duplicates_text = df[df['message'].duplicated()]\n",
    "duplicates_all = df[df.duplicated()]\n",
    "\n",
    "print(duplicates_text.shape)\n",
    "print(duplicates_all.shape)\n",
    "print(df['category'].unique())"
   ],
   "metadata": {
    "colab": {
     "base_uri": "https://localhost:8080/"
    },
    "id": "36kZf6JfU2E_",
    "outputId": "bfea5fec-5a0f-4fca-85bb-1538fc20e193"
   },
   "execution_count": null,
   "outputs": [
    {
     "output_type": "stream",
     "name": "stdout",
     "text": [
      "(625, 2)\n",
      "(624, 2)\n",
      "['ham' 'junk']\n"
     ]
    }
   ]
  },
  {
   "cell_type": "code",
   "source": [
    "df = df.drop_duplicates().reset_index(drop=True)\n",
    "print(df)"
   ],
   "metadata": {
    "colab": {
     "base_uri": "https://localhost:8080/"
    },
    "id": "W4zYq4Y0pLLZ",
    "outputId": "ab4e09a5-aaf0-4ada-f81c-1154f0aa568d"
   },
   "execution_count": null,
   "outputs": [
    {
     "output_type": "stream",
     "name": "stdout",
     "text": [
      "                                                message category\n",
      "0     Go until jurong point, crazy.. Available only ...      ham\n",
      "1                         Ok lar... Joking wif u oni...      ham\n",
      "2     Free entry in 2 a wkly comp to win FA Cup fina...     junk\n",
      "3     U dun say so early hor... U c already then say...      ham\n",
      "4     Nah I don't think he goes to usf, he lives aro...      ham\n",
      "...                                                 ...      ...\n",
      "9943  I noticed a drop in checks, and did some tests...      ham\n",
      "9944  >>>>> \"U\" == Udhay Shankar N  writes:    U> At...      ham\n",
      "9945  i will be out next week imbalances : i would l...      ham\n",
      "9946  re : first delivery - wagner oil vance , deal ...      ham\n",
      "9947  Once upon a time, Peter wrote :> On Fri, Feb 0...      ham\n",
      "\n",
      "[9948 rows x 2 columns]\n"
     ]
    }
   ]
  },
  {
   "cell_type": "code",
   "source": [
    "inconsistent = df.groupby('message')['category'].nunique()\n",
    "conflicting_content = inconsistent[inconsistent > 1].index\n",
    "conflict_records = df[df['message'].isin(conflicting_content)]\n",
    "print(conflict_records)"
   ],
   "metadata": {
    "colab": {
     "base_uri": "https://localhost:8080/"
    },
    "id": "FsgKAdoYplvn",
    "outputId": "4130386e-7eb9-4180-9117-5ebdf41c6c21"
   },
   "execution_count": null,
   "outputs": [
    {
     "output_type": "stream",
     "name": "stdout",
     "text": [
      "     message category\n",
      "5211   empty     junk\n",
      "5263   empty      ham\n"
     ]
    }
   ]
  },
  {
   "cell_type": "code",
   "source": [
    "print(df.isnull().sum())"
   ],
   "metadata": {
    "colab": {
     "base_uri": "https://localhost:8080/"
    },
    "id": "Xck5EIgngIwy",
    "outputId": "27826cc1-af20-49f2-841b-1185392d5a50"
   },
   "execution_count": null,
   "outputs": [
    {
     "output_type": "stream",
     "name": "stdout",
     "text": [
      "message     1\n",
      "category    0\n",
      "dtype: int64\n"
     ]
    }
   ]
  },
  {
   "cell_type": "code",
   "source": [
    "df_clean = df[df['message'].str.strip() != 'empty']\n",
    "df_clean = df_clean.dropna()\n",
    "df_clean['spam'] = df_clean['category'].apply(lambda x:1 if x=='junk' else 0)\n",
    "print(df_clean)"
   ],
   "metadata": {
    "id": "mXUr2-YLrKaY",
    "colab": {
     "base_uri": "https://localhost:8080/"
    },
    "outputId": "e309ad99-cc1a-4586-ed11-9a0defba8955"
   },
   "execution_count": null,
   "outputs": [
    {
     "output_type": "stream",
     "name": "stdout",
     "text": [
      "                                                message category  spam\n",
      "0     Go until jurong point, crazy.. Available only ...      ham     0\n",
      "1                         Ok lar... Joking wif u oni...      ham     0\n",
      "2     Free entry in 2 a wkly comp to win FA Cup fina...     junk     1\n",
      "3     U dun say so early hor... U c already then say...      ham     0\n",
      "4     Nah I don't think he goes to usf, he lives aro...      ham     0\n",
      "...                                                 ...      ...   ...\n",
      "9943  I noticed a drop in checks, and did some tests...      ham     0\n",
      "9944  >>>>> \"U\" == Udhay Shankar N  writes:    U> At...      ham     0\n",
      "9945  i will be out next week imbalances : i would l...      ham     0\n",
      "9946  re : first delivery - wagner oil vance , deal ...      ham     0\n",
      "9947  Once upon a time, Peter wrote :> On Fri, Feb 0...      ham     0\n",
      "\n",
      "[9945 rows x 3 columns]\n"
     ]
    }
   ]
  },
  {
   "cell_type": "code",
   "source": [
    "import string\n",
    "from nltk.corpus import stopwords\n",
    "from nltk import PorterStemmer as Stemmer\n",
    "def process(text):\n",
    "    # lowercase it\n",
    "    text = text.lower()\n",
    "    # remove punctuation\n",
    "    text = ''.join([t for t in text if t not in string.punctuation])\n",
    "    # remove stopwords\n",
    "    text = [t for t in text.split() if t not in stopwords.words('english')]\n",
    "    # stemming\n",
    "    st = Stemmer()\n",
    "    text = [st.stem(t) for t in text]\n",
    "    # return token list\n",
    "    return (text)"
   ],
   "metadata": {
    "id": "Do_CCtg7q3mj"
   },
   "execution_count": null,
   "outputs": []
  },
  {
   "cell_type": "code",
   "source": [
    "print(process(\"Go until jurong point, crazy.. Available only in bugis n great world la e buffet... Cine there got amore wat...\"))"
   ],
   "metadata": {
    "colab": {
     "base_uri": "https://localhost:8080/"
    },
    "id": "RFnADu7yrnDc",
    "outputId": "18f91a69-b0f2-473f-be73-a3f192b30487"
   },
   "execution_count": null,
   "outputs": [
    {
     "output_type": "stream",
     "name": "stdout",
     "text": [
      "['go', 'jurong', 'point', 'crazi', 'avail', 'bugi', 'n', 'great', 'world', 'la', 'e', 'buffet', 'cine', 'got', 'amor', 'wat']\n"
     ]
    }
   ]
  },
  {
   "cell_type": "code",
   "source": [
    "spam_filter = MultinomialNB()\n",
    "\n",
    "x_train, x_test, y_train, y_test = train_test_split(df_clean['message'], df_clean['spam'], test_size=0.25, random_state = 3)"
   ],
   "metadata": {
    "id": "aFi9a3Zf_qVh"
   },
   "execution_count": null,
   "outputs": []
  },
  {
   "cell_type": "code",
   "source": [
    "tfidfv = TfidfVectorizer(max_df=0.9, min_df=5, analyzer=process)\n",
    "x_train_vec = tfidfv.fit_transform(x_train)\n",
    "x_test_vec = tfidfv.transform(x_test)"
   ],
   "metadata": {
    "id": "JwTQbi0yhLUV"
   },
   "execution_count": null,
   "outputs": []
  },
  {
   "cell_type": "code",
   "source": [
    "spam_filter.fit(x_train_vec, y_train)\n",
    "predictions = spam_filter.predict(x_test_vec)"
   ],
   "metadata": {
    "id": "epaBVK0Y_2tn"
   },
   "execution_count": null,
   "outputs": []
  },
  {
   "cell_type": "code",
   "source": [
    "from sklearn.metrics import classification_report\n",
    "print(classification_report(y_test, predictions))"
   ],
   "metadata": {
    "colab": {
     "base_uri": "https://localhost:8080/"
    },
    "id": "L-yBH9fI_-mu",
    "outputId": "c08129ef-3448-4e10-8878-abeef72bc6b5"
   },
   "execution_count": null,
   "outputs": [
    {
     "output_type": "stream",
     "name": "stdout",
     "text": [
      "              precision    recall  f1-score   support\n",
      "\n",
      "           0       0.94      0.99      0.97      1881\n",
      "           1       0.98      0.82      0.89       606\n",
      "\n",
      "    accuracy                           0.95      2487\n",
      "   macro avg       0.96      0.91      0.93      2487\n",
      "weighted avg       0.95      0.95      0.95      2487\n",
      "\n"
     ]
    }
   ]
  },
  {
   "cell_type": "code",
   "source": [
    "from sklearn.metrics import confusion_matrix, ConfusionMatrixDisplay\n",
    "import matplotlib.pyplot as plt\n",
    "\n",
    "cm = confusion_matrix(y_test, predictions, labels=[0, 1])\n",
    "\n",
    "# Hiển thị\n",
    "disp = ConfusionMatrixDisplay(confusion_matrix=cm, display_labels=['0', '1'])\n",
    "disp.plot(cmap=plt.cm.Blues)\n",
    "plt.title(\"Confusion Matrix - Email Classification\")\n",
    "plt.show()\n"
   ],
   "metadata": {
    "colab": {
     "base_uri": "https://localhost:8080/",
     "height": 472
    },
    "id": "ICLTg8xIDjRP",
    "outputId": "abf0c9b5-de8d-4594-a4b9-e3b8c28fa35c"
   },
   "execution_count": null,
   "outputs": [
    {
     "output_type": "display_data",
     "data": {
      "text/plain": [
       "<Figure size 640x480 with 2 Axes>"
      ],
      "image/png": "[encoded data removed]"
     },
     "metadata": {}
    }
   ]
  },
  {
   "cell_type": "code",
   "source": [],
   "metadata": {
    "id": "yWx5ARLfr_Bi"
   },
   "execution_count": null,
   "outputs": []
  }
 ]
}
