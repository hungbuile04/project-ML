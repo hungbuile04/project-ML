{
 "cells": [
  {
   "cell_type": "code",
   "execution_count": 3,
   "metadata": {},
   "outputs": [
    {
     "name": "stdout",
     "output_type": "stream",
     "text": [
      "/Users/buihung/prj machine learning/project-ML\n"
     ]
    }
   ],
   "source": [
    "import os\n",
    "print(os.getcwd())  # Kiểm tra thư mục làm việc hiện tại\n",
    "#os.chdir(\"../\")  # Di chuyển lên thư mục cha"
   ]
  },
  {
   "cell_type": "code",
   "execution_count": 9,
   "metadata": {},
   "outputs": [
    {
     "name": "stdout",
     "output_type": "stream",
     "text": [
      "                                             message category\n",
      "0  Go until jurong point, crazy.. Available only ...      ham\n",
      "1                      Ok lar... Joking wif u oni...      ham\n",
      "2  Free entry in 2 a wkly comp to win FA Cup fina...     junk\n",
      "3  U dun say so early hor... U c already then say...      ham\n",
      "4  Nah I don't think he goes to usf, he lives aro...      ham\n"
     ]
    }
   ],
   "source": [
    "import pandas as pd\n",
    "\n",
    "# Đọc file CSV\n",
    "df = pd.read_csv(\"resource/email_data.csv\", header=0, names=[\"message\", \"category\"])\n",
    "\n",
    "# Hiển thị 5 dòng đầu tiên\n",
    "print(df.head())"
   ]
  },
  {
   "cell_type": "code",
   "execution_count": 10,
   "metadata": {},
   "outputs": [],
   "source": [
    "# Xử lý giá trị NaN trong cột 'message'\n",
    "df[\"message\"] = df[\"message\"].fillna(\"\")  # Thay NaN bằng chuỗi rỗng\n",
    "\n",
    "# import nltk\n",
    "# from nltk.corpus import stopwords\n",
    "# nltk.download('stopwords')\n",
    "# stop_words = set(stopwords.words('english'))  \n",
    "# df[\"message\"] = df[\"message\"].apply(lambda x: \" \".join([word for word in x.split() if word.lower() not in stop_words]))"
   ]
  },
  {
   "cell_type": "code",
   "execution_count": 11,
   "metadata": {},
   "outputs": [
    {
     "name": "stdout",
     "output_type": "stream",
     "text": [
      "category\n",
      "ham     7828\n",
      "junk    2744\n",
      "Name: count, dtype: int64\n"
     ]
    }
   ],
   "source": [
    "# Liệt kê các giá trị trong cột 'category' và số lần xuất hiện\n",
    "category_values = df['category'].value_counts()\n",
    "print(category_values)"
   ]
  },
  {
   "cell_type": "code",
   "execution_count": 12,
   "metadata": {},
   "outputs": [],
   "source": [
    "from sklearn.feature_extraction.text import TfidfVectorizer\n",
    "from sklearn.model_selection import train_test_split\n",
    "from sklearn.tree import DecisionTreeClassifier\n",
    "from sklearn.metrics import accuracy_score, classification_report\n",
    "\n",
    "df[\"category\"] = df[\"category\"].map({\"ham\": 0, \"junk\": 1})  # Chuyển nhãn thành số\n",
    "\n",
    "# Tiền xử lý văn bản: Sử dụng TF-IDF\n",
    "vectorizer = TfidfVectorizer(stop_words=\"english\")\n",
    "X = vectorizer.fit_transform(df[\"message\"])  # Biểu diễn email thành vector số\n",
    "y = df[\"category\"]"
   ]
  },
  {
   "cell_type": "code",
   "execution_count": 13,
   "metadata": {},
   "outputs": [
    {
     "name": "stdout",
     "output_type": "stream",
     "text": [
      "Accuracy: 0.8846335697399527\n",
      "              precision    recall  f1-score   support\n",
      "\n",
      "           0       0.89      0.97      0.93      1566\n",
      "           1       0.87      0.65      0.74       549\n",
      "\n",
      "    accuracy                           0.88      2115\n",
      "   macro avg       0.88      0.81      0.84      2115\n",
      "weighted avg       0.88      0.88      0.88      2115\n",
      "\n"
     ]
    }
   ],
   "source": [
    "# Chia tập dữ liệu thành train/test\n",
    "X_train, X_test, y_train, y_test = train_test_split(X, y, test_size=0.2, random_state=42)\n",
    "\n",
    "# Huấn luyện mô hình Decision Tree\n",
    "clf = DecisionTreeClassifier(max_depth=20, random_state=42)\n",
    "clf.fit(X_train, y_train)\n",
    "\n",
    "# Dự đoán trên tập test\n",
    "y_pred = clf.predict(X_test)\n",
    "\n",
    "# Đánh giá mô hình\n",
    "print(\"Accuracy:\", accuracy_score(y_test, y_pred))\n",
    "print(classification_report(y_test, y_pred))"
   ]
  }
 ],
 "metadata": {
  "kernelspec": {
   "display_name": "base",
   "language": "python",
   "name": "python3"
  },
  "language_info": {
   "codemirror_mode": {
    "name": "ipython",
    "version": 3
   },
   "file_extension": ".py",
   "mimetype": "text/x-python",
   "name": "python",
   "nbconvert_exporter": "python",
   "pygments_lexer": "ipython3",
   "version": "3.12.4"
  }
 },
 "nbformat": 4,
 "nbformat_minor": 2
}
