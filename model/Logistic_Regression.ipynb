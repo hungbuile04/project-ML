{
  "cells": [
    {
      "cell_type": "markdown",
      "metadata": {},
      "source": [
        "<h3> Tải thư viện gdown </h3>"
      ]
    },
    {
      "cell_type": "code",
      "execution_count": 2,
      "metadata": {
        "colab": {
          "base_uri": "https://localhost:8080/"
        },
        "id": "ClBDMf6HQKE5",
        "outputId": "d6ea16ef-88c8-4928-c5be-ced4e4f11338"
      },
      "outputs": [
        {
          "name": "stdout",
          "output_type": "stream",
          "text": [
            "Collecting gdown==4.6.0\n",
            "  Downloading gdown-4.6.0-py3-none-any.whl.metadata (4.4 kB)\n",
            "Requirement already satisfied: filelock in /usr/local/lib/python3.11/dist-packages (from gdown==4.6.0) (3.18.0)\n",
            "Requirement already satisfied: requests[socks] in /usr/local/lib/python3.11/dist-packages (from gdown==4.6.0) (2.32.3)\n",
            "Requirement already satisfied: six in /usr/local/lib/python3.11/dist-packages (from gdown==4.6.0) (1.17.0)\n",
            "Requirement already satisfied: tqdm in /usr/local/lib/python3.11/dist-packages (from gdown==4.6.0) (4.67.1)\n",
            "Requirement already satisfied: beautifulsoup4 in /usr/local/lib/python3.11/dist-packages (from gdown==4.6.0) (4.13.4)\n",
            "Requirement already satisfied: soupsieve>1.2 in /usr/local/lib/python3.11/dist-packages (from beautifulsoup4->gdown==4.6.0) (2.7)\n",
            "Requirement already satisfied: typing-extensions>=4.0.0 in /usr/local/lib/python3.11/dist-packages (from beautifulsoup4->gdown==4.6.0) (4.13.2)\n",
            "Requirement already satisfied: charset-normalizer<4,>=2 in /usr/local/lib/python3.11/dist-packages (from requests[socks]->gdown==4.6.0) (3.4.1)\n",
            "Requirement already satisfied: idna<4,>=2.5 in /usr/local/lib/python3.11/dist-packages (from requests[socks]->gdown==4.6.0) (3.10)\n",
            "Requirement already satisfied: urllib3<3,>=1.21.1 in /usr/local/lib/python3.11/dist-packages (from requests[socks]->gdown==4.6.0) (2.4.0)\n",
            "Requirement already satisfied: certifi>=2017.4.17 in /usr/local/lib/python3.11/dist-packages (from requests[socks]->gdown==4.6.0) (2025.4.26)\n",
            "Requirement already satisfied: PySocks!=1.5.7,>=1.5.6 in /usr/local/lib/python3.11/dist-packages (from requests[socks]->gdown==4.6.0) (1.7.1)\n",
            "Downloading gdown-4.6.0-py3-none-any.whl (14 kB)\n",
            "Installing collected packages: gdown\n",
            "  Attempting uninstall: gdown\n",
            "    Found existing installation: gdown 5.2.0\n",
            "    Uninstalling gdown-5.2.0:\n",
            "      Successfully uninstalled gdown-5.2.0\n",
            "Successfully installed gdown-4.6.0\n"
          ]
        }
      ],
      "source": [
        "!pip install gdown==4.6.0"
      ]
    },
    {
      "cell_type": "code",
      "execution_count": 1,
      "metadata": {
        "colab": {
          "base_uri": "https://localhost:8080/"
        },
        "id": "F4ROXUwWmOnF",
        "outputId": "190832f8-c375-44fc-eff1-89cc238d33eb"
      },
      "outputs": [
        {
          "name": "stdout",
          "output_type": "stream",
          "text": [
            "Mounted at /content/drive\n"
          ]
        }
      ],
      "source": [
        "from google.colab import drive\n",
        "drive.mount('/content/drive')"
      ]
    },
    {
      "cell_type": "markdown",
      "metadata": {
        "id": "53m_r_j8mLZx"
      },
      "source": [
        "<h2> Lấy data từ Google Drive"
      ]
    },
    {
      "cell_type": "code",
      "execution_count": 3,
      "metadata": {
        "colab": {
          "base_uri": "https://localhost:8080/"
        },
        "id": "Q5eKWUVbRCw0",
        "outputId": "428b8f0c-b70e-42f3-94a2-8d422dd5eaac"
      },
      "outputs": [
        {
          "name": "stderr",
          "output_type": "stream",
          "text": [
            "Downloading...\n",
            "From: https://drive.google.com/uc?id=1JXdyh-UVveXhBToLJj8ZJNttiJif6zH8\n",
            "To: /content/content/data/X_train.csv\n",
            "100%|██████████| 5.03M/5.03M [00:00<00:00, 32.2MB/s]\n",
            "Downloading...\n",
            "From: https://drive.google.com/uc?id=1rtyLyNDBr3sPcyElMhpDPK3qTbNZH1YT\n",
            "To: /content/content/data/X_test.csv\n",
            "100%|██████████| 1.34M/1.34M [00:00<00:00, 12.4MB/s]\n",
            "Downloading...\n",
            "From: https://drive.google.com/uc?id=1IkNvEhPFfano0qSDZFWhsmpF3ttC1q0Y\n",
            "To: /content/content/data/y_train.csv\n",
            "100%|██████████| 16.9k/16.9k [00:00<00:00, 23.6MB/s]\n",
            "Downloading...\n",
            "From: https://drive.google.com/uc?id=1JlMWumYQP9OIH79dVsCiZ-eavZAhgSzv\n",
            "To: /content/content/data/y_test.csv\n",
            "100%|██████████| 4.24k/4.24k [00:00<00:00, 6.89MB/s]\n"
          ]
        }
      ],
      "source": [
        "import gdown\n",
        "!mkdir -p content/data\n",
        "# Download all files\n",
        "file_ids = [\n",
        "    '1JXdyh-UVveXhBToLJj8ZJNttiJif6zH8',  # X_train\n",
        "    '1rtyLyNDBr3sPcyElMhpDPK3qTbNZH1YT',  # X_test\n",
        "    '1IkNvEhPFfano0qSDZFWhsmpF3ttC1q0Y',  # y_train\n",
        "    '1JlMWumYQP9OIH79dVsCiZ-eavZAhgSzv'   # y_test\n",
        "]\n",
        "\n",
        "file_paths = [\n",
        "    'content/data/X_train.csv',\n",
        "    'content/data/X_test.csv',\n",
        "    'content/data/y_train.csv',\n",
        "    'content/data/y_test.csv'\n",
        "]\n",
        "for file_id, file_path in zip(file_ids, file_paths):\n",
        "    gdown.download(f'https://drive.google.com/uc?id={file_id}', file_path, quiet=False)"
      ]
    },
    {
      "cell_type": "code",
      "execution_count": 4,
      "metadata": {
        "colab": {
          "base_uri": "https://localhost:8080/"
        },
        "id": "SOpT8T2zR7jT",
        "outputId": "78e900b0-52f6-4c6c-dc2f-df02646321f9"
      },
      "outputs": [
        {
          "name": "stdout",
          "output_type": "stream",
          "text": [
            "\n",
            "🟦 X_train:\n",
            "<class 'pandas.core.frame.DataFrame'>\n",
            "RangeIndex: 8457 entries, 0 to 8456\n",
            "Data columns (total 1 columns):\n",
            " #   Column   Non-Null Count  Dtype \n",
            "---  ------   --------------  ----- \n",
            " 0   message  8445 non-null   object\n",
            "dtypes: object(1)\n",
            "memory usage: 66.2+ KB\n",
            "None\n",
            "Tên cột: ['message']\n",
            "\n",
            "🟨 X_test:\n",
            "<class 'pandas.core.frame.DataFrame'>\n",
            "RangeIndex: 2115 entries, 0 to 2114\n",
            "Data columns (total 1 columns):\n",
            " #   Column   Non-Null Count  Dtype \n",
            "---  ------   --------------  ----- \n",
            " 0   message  2114 non-null   object\n",
            "dtypes: object(1)\n",
            "memory usage: 16.7+ KB\n",
            "None\n",
            "Tên cột: ['message']\n",
            "\n",
            "🟩 y_train:\n",
            "<class 'pandas.core.frame.DataFrame'>\n",
            "RangeIndex: 8457 entries, 0 to 8456\n",
            "Data columns (total 1 columns):\n",
            " #   Column    Non-Null Count  Dtype\n",
            "---  ------    --------------  -----\n",
            " 0   category  8457 non-null   int64\n",
            "dtypes: int64(1)\n",
            "memory usage: 66.2 KB\n",
            "None\n",
            "Tên cột: ['category']\n",
            "\n",
            "🟥 y_test:\n",
            "<class 'pandas.core.frame.DataFrame'>\n",
            "RangeIndex: 2115 entries, 0 to 2114\n",
            "Data columns (total 1 columns):\n",
            " #   Column    Non-Null Count  Dtype\n",
            "---  ------    --------------  -----\n",
            " 0   category  2115 non-null   int64\n",
            "dtypes: int64(1)\n",
            "memory usage: 16.7 KB\n",
            "None\n",
            "Tên cột: ['category']\n"
          ]
        }
      ],
      "source": [
        "# Đọc file CSV\n",
        "import pandas as pd\n",
        "df_x_train = pd.read_csv('content/data/X_train.csv')\n",
        "df_x_test = pd.read_csv('content/data/X_test.csv')\n",
        "df_y_train = pd.read_csv('content/data/y_train.csv')\n",
        "df_y_test = pd.read_csv('content/data/y_test.csv')\n",
        "\n",
        "# Hiển thị thông tin và cột\n",
        "print(\"\\n🟦 X_train:\")\n",
        "print(df_x_train.info())\n",
        "print(\"Tên cột:\", df_x_train.columns.tolist())\n",
        "\n",
        "print(\"\\n🟨 X_test:\")\n",
        "print(df_x_test.info())\n",
        "print(\"Tên cột:\", df_x_test.columns.tolist())\n",
        "\n",
        "print(\"\\n🟩 y_train:\")\n",
        "print(df_y_train.info())\n",
        "print(\"Tên cột:\", df_y_train.columns.tolist())\n",
        "\n",
        "print(\"\\n🟥 y_test:\")\n",
        "print(df_y_test.info())\n",
        "print(\"Tên cột:\", df_y_test.columns.tolist())"
      ]
    },
    {
      "cell_type": "markdown",
      "metadata": {
        "id": "f-lvntGJmLZz"
      },
      "source": [
        "<h2> 1. Logistic Regression với CountVectorizer (Bag of Words)"
      ]
    },
    {
      "cell_type": "code",
      "execution_count": 5,
      "metadata": {
        "colab": {
          "base_uri": "https://localhost:8080/",
          "height": 734
        },
        "id": "FvLxIMm0mLZz",
        "outputId": "b02ee961-a8e7-4115-aab0-3b2787934d76"
      },
      "outputs": [
        {
          "name": "stdout",
          "output_type": "stream",
          "text": [
            "\n",
            "==================== Kết quả với Bag of Words (CountVectorizer) ====================\n",
            "Best Logistic Regression Parameters: {'C': 0.1, 'penalty': 'l2', 'solver': 'liblinear'}\n",
            "Accuracy: 0.9389782403027436\n",
            "Classification Report:\n",
            "               precision    recall  f1-score   support\n",
            "\n",
            "           0       0.94      0.98      0.96      1565\n",
            "           1       0.92      0.83      0.88       549\n",
            "\n",
            "    accuracy                           0.94      2114\n",
            "   macro avg       0.93      0.90      0.92      2114\n",
            "weighted avg       0.94      0.94      0.94      2114\n",
            "\n"
          ]
        },
        {
          "data": {
            "text/plain": [
              "<Figure size 1000x800 with 0 Axes>"
            ]
          },
          "metadata": {},
          "output_type": "display_data"
        },
        {
          "data": {
            "image/png": "[encoded data removed]",
            "text/plain": [
              "<Figure size 640x480 with 2 Axes>"
            ]
          },
          "metadata": {},
          "output_type": "display_data"
        }
      ],
      "source": [
        "import pandas as pd\n",
        "import matplotlib.pyplot as plt\n",
        "from sklearn.metrics import confusion_matrix, ConfusionMatrixDisplay\n",
        "from sklearn.feature_extraction.text import CountVectorizer\n",
        "from sklearn.preprocessing import StandardScaler, LabelEncoder\n",
        "from sklearn.linear_model import LogisticRegression\n",
        "from sklearn.model_selection import GridSearchCV\n",
        "from sklearn.metrics import accuracy_score, classification_report\n",
        "\n",
        "# Đọc dữ liệu\n",
        "df_x_train = pd.read_csv('content/data/X_train.csv')\n",
        "df_x_test = pd.read_csv('content/data/X_test.csv')\n",
        "df_y_train = pd.read_csv('content/data/y_train.csv')\n",
        "df_y_test = pd.read_csv('content/data/y_test.csv')\n",
        "\n",
        "# Loại bỏ các dòng có giá trị thiếu trong cột 'message'\n",
        "df_x_train = df_x_train.dropna(subset=['message'])\n",
        "df_x_test = df_x_test.dropna(subset=['message'])\n",
        "df_y_train = df_y_train.loc[df_x_train.index]\n",
        "df_y_test = df_y_test.loc[df_x_test.index]\n",
        "\n",
        "# Mã hóa nhãn (category)\n",
        "le = LabelEncoder()\n",
        "y_encoded = le.fit_transform(df_y_train['category'])\n",
        "y_test_encoded = le.transform(df_y_test['category'])\n",
        "\n",
        "# Vector hóa văn bản bằng Bag of Words\n",
        "count_vectorizer = CountVectorizer(max_features=3000, stop_words='english', ngram_range=(1, 3))\n",
        "X_train_bow = count_vectorizer.fit_transform(df_x_train['message'])\n",
        "X_test_bow = count_vectorizer.transform(df_x_test['message'])\n",
        "\n",
        "# Chuẩn hóa dữ liệu\n",
        "scaler_bow = StandardScaler(with_mean=False)\n",
        "X_train_bow_scaled = scaler_bow.fit_transform(X_train_bow)\n",
        "X_test_bow_scaled = scaler_bow.transform(X_test_bow)\n",
        "\n",
        "# Huấn luyện Logistic Regression với GridSearchCV\n",
        "param_grid = {\n",
        "    'C': [0.1, 1, 10],\n",
        "    'penalty': ['l1', 'l2'],\n",
        "    'solver': ['liblinear']\n",
        "}\n",
        "grid_bow = GridSearchCV(LogisticRegression(), param_grid, cv=3, scoring='accuracy', n_jobs=-1)\n",
        "grid_bow.fit(X_train_bow_scaled, y_encoded)\n",
        "\n",
        "# Dự đoán và đánh giá\n",
        "y_pred_bow = grid_bow.best_estimator_.predict(X_test_bow_scaled)\n",
        "print(\"\\n==================== Kết quả với Bag of Words (CountVectorizer) ====================\")\n",
        "print(\"Best Logistic Regression Parameters:\", grid_bow.best_params_)\n",
        "print(\"Accuracy:\", accuracy_score(y_test_encoded, y_pred_bow))\n",
        "print(\"Classification Report:\\n\", classification_report(\n",
        "    y_test_encoded, y_pred_bow, target_names=le.classes_.astype(str)\n",
        "))\n",
        "\n",
        "# Tính confusion matrix\n",
        "cm = confusion_matrix(y_test_encoded, y_pred_bow)\n",
        "\n",
        "# Vẽ confusion matrix\n",
        "disp = ConfusionMatrixDisplay(confusion_matrix=cm, display_labels=le.classes_)\n",
        "plt.figure(figsize=(10, 8))\n",
        "disp.plot(xticks_rotation=45, cmap='Blues')\n",
        "plt.title('Confusion Matrix - Bag of Words (CountVectorizer)')\n",
        "plt.show()"
      ]
    },
    {
      "cell_type": "markdown",
      "metadata": {
        "id": "0RfVZ-cemLZ0"
      },
      "source": [
        "<h2> 2. Logistic Regression với TF-IDF"
      ]
    },
    {
      "cell_type": "markdown",
      "metadata": {
        "id": "0YlU02UwqpzY"
      },
      "source": [
        "<h3> Tải dữ liệu từ nltk"
      ]
    },
    {
      "cell_type": "code",
      "execution_count": 6,
      "metadata": {
        "colab": {
          "base_uri": "https://localhost:8080/"
        },
        "id": "iGNuiT1tpCs8",
        "outputId": "9e25c922-c8eb-4b4b-c6bb-e0e56bea735f"
      },
      "outputs": [
        {
          "name": "stderr",
          "output_type": "stream",
          "text": [
            "[nltk_data] Downloading package punkt to /root/nltk_data...\n",
            "[nltk_data]   Unzipping tokenizers/punkt.zip.\n",
            "[nltk_data] Downloading package punkt_tab to /root/nltk_data...\n",
            "[nltk_data]   Unzipping tokenizers/punkt_tab.zip.\n",
            "[nltk_data] Downloading package wordnet to /root/nltk_data...\n",
            "[nltk_data] Downloading package omw-1.4 to /root/nltk_data...\n"
          ]
        },
        {
          "data": {
            "text/plain": [
              "True"
            ]
          },
          "execution_count": 6,
          "metadata": {},
          "output_type": "execute_result"
        }
      ],
      "source": [
        "   import nltk\n",
        "   nltk.download('punkt')\n",
        "   nltk.download('punkt_tab')\n",
        "   nltk.download('wordnet')\n",
        "   nltk.download('omw-1.4')"
      ]
    },
    {
      "cell_type": "code",
      "execution_count": 8,
      "metadata": {
        "colab": {
          "base_uri": "https://localhost:8080/",
          "height": 734
        },
        "id": "64HnqC4RVgMQ",
        "outputId": "d8752bce-3bf8-4a75-eea4-e92f3eb9a867"
      },
      "outputs": [
        {
          "name": "stdout",
          "output_type": "stream",
          "text": [
            "\n",
            "==================== Best TF-IDF max_features=5000 with Accuracy=0.9493850520340587 ====================\n",
            "Best Logistic Regression Parameters: {'C': 0.1, 'penalty': 'l1', 'solver': 'liblinear'}\n",
            "Accuracy: 0.9493850520340587\n",
            "Classification Report:\n",
            "               precision    recall  f1-score   support\n",
            "\n",
            "           0       0.95      0.98      0.97      1565\n",
            "           1       0.94      0.86      0.90       549\n",
            "\n",
            "    accuracy                           0.95      2114\n",
            "   macro avg       0.95      0.92      0.93      2114\n",
            "weighted avg       0.95      0.95      0.95      2114\n",
            "\n"
          ]
        },
        {
          "data": {
            "text/plain": [
              "<Figure size 1000x800 with 0 Axes>"
            ]
          },
          "metadata": {},
          "output_type": "display_data"
        },
        {
          "data": {
            "image/png": "[encoded data removed]",
            "text/plain": [
              "<Figure size 640x480 with 2 Axes>"
            ]
          },
          "metadata": {},
          "output_type": "display_data"
        }
      ],
      "source": [
        "# 1. Import các thư viện cần thiết\n",
        "import pandas as pd\n",
        "import numpy as np\n",
        "import matplotlib.pyplot as plt\n",
        "from sklearn.metrics import confusion_matrix, ConfusionMatrixDisplay\n",
        "from sklearn.feature_extraction.text import TfidfVectorizer\n",
        "from sklearn.model_selection import GridSearchCV\n",
        "from sklearn.preprocessing import StandardScaler, LabelEncoder\n",
        "from sklearn.linear_model import LogisticRegression\n",
        "from sklearn.metrics import accuracy_score, classification_report\n",
        "from nltk.stem import WordNetLemmatizer\n",
        "from nltk.tokenize import word_tokenize\n",
        "import string\n",
        "import re\n",
        "\n",
        "# 2. Xử lý dữ liệu đầu vào\n",
        "# Làm sạch dữ liệu\n",
        "df_x_train['message'] = df_x_train['message'].fillna('')  # Xử lý NaN\n",
        "df_x_test['message'] = df_x_test['message'].fillna('')\n",
        "\n",
        "X_raw = df_x_train['message']\n",
        "y = df_y_train['category']\n",
        "\n",
        "# 3. Mã hóa nhãn\n",
        "le = LabelEncoder()\n",
        "y_encoded = le.fit_transform(y)\n",
        "\n",
        "# 4. Tiền xử lý văn bản nâng cao\n",
        "lemmatizer = WordNetLemmatizer()\n",
        "\n",
        "def preprocess(text):\n",
        "    text = text.lower()  # Lowercasing\n",
        "    text = re.sub(r'\\d+', '', text)  # Remove numbers\n",
        "    text = text.translate(str.maketrans('', '', string.punctuation))  # Remove punctuation\n",
        "    tokens = word_tokenize(text)  # Tokenize\n",
        "    lemmatized = [lemmatizer.lemmatize(token) for token in tokens if token.isalpha()]  # Lemmatization & remove non-alpha\n",
        "    return ' '.join(lemmatized)\n",
        "\n",
        "df_x_train['message'] = df_x_train['message'].apply(preprocess)\n",
        "df_x_test['message'] = df_x_test['message'].apply(preprocess)\n",
        "\n",
        "# 5. So sánh các kích thước TF-IDF khác nhau và chọn số chiều tốt nhất\n",
        "feature_sizes = [3000, 4000, 5000]  # Các số chiều khác nhau để thử\n",
        "best_accuracy = 0\n",
        "best_max_feat = 0\n",
        "\n",
        "for max_feat in feature_sizes:\n",
        "    # TF-IDF vectorization với 3-grams\n",
        "    vectorizer = TfidfVectorizer(max_features=max_feat, stop_words='english', ngram_range=(1, 3))\n",
        "    X_tfidf = vectorizer.fit_transform(df_x_train['message'])\n",
        "\n",
        "    # Scale dữ liệu\n",
        "    scaler = StandardScaler(with_mean=False)\n",
        "    X_train_scaled = scaler.fit_transform(X_tfidf)\n",
        "    X_test_tfidf = vectorizer.transform(df_x_test['message'])\n",
        "    X_test_scaled = scaler.transform(X_test_tfidf)\n",
        "\n",
        "    # GridSearch để tìm Logistic Regression tốt nhất\n",
        "    param_grid = {\n",
        "        'C': [0.1, 1, 10],\n",
        "        'penalty': ['l1', 'l2'],\n",
        "        'solver': ['liblinear']\n",
        "    }\n",
        "\n",
        "    grid = GridSearchCV(LogisticRegression(), param_grid, cv=3, scoring='accuracy', n_jobs=-1)\n",
        "    grid.fit(X_train_scaled, y_encoded)\n",
        "\n",
        "    # Dự đoán và tính accuracy\n",
        "    y_pred = grid.best_estimator_.predict(X_test_scaled)\n",
        "    accuracy = accuracy_score(df_y_test['category'], y_pred)\n",
        "\n",
        "    if accuracy > best_accuracy:\n",
        "        best_accuracy = accuracy\n",
        "        best_max_feat = max_feat\n",
        "\n",
        "# Sau khi loop qua tất cả các số chiều, in ra kết quả\n",
        "print(f\"\\n==================== Best TF-IDF max_features={best_max_feat} with Accuracy={best_accuracy} ====================\")\n",
        "\n",
        "# Dùng số chiều tốt nhất để huấn luyện lại mô hình\n",
        "vectorizer = TfidfVectorizer(max_features=best_max_feat, stop_words='english', ngram_range=(1, 3))\n",
        "X_tfidf = vectorizer.fit_transform(df_x_train['message'])\n",
        "\n",
        "# Scale dữ liệu\n",
        "scaler = StandardScaler(with_mean=False)\n",
        "X_train_scaled = scaler.fit_transform(X_tfidf)\n",
        "X_test_tfidf = vectorizer.transform(df_x_test['message'])\n",
        "X_test_scaled = scaler.transform(X_test_tfidf)\n",
        "\n",
        "# Huấn luyện lại Logistic Regression với số chiều tốt nhất\n",
        "grid = GridSearchCV(LogisticRegression(), param_grid, cv=3, scoring='accuracy', n_jobs=-1)\n",
        "grid.fit(X_train_scaled, y_encoded)\n",
        "\n",
        "# In kết quả cuối cùng\n",
        "y_pred = grid.best_estimator_.predict(X_test_scaled)\n",
        "print(\"Best Logistic Regression Parameters:\", grid.best_params_)\n",
        "print(\"Accuracy:\", accuracy_score(df_y_test['category'], y_pred))\n",
        "print(\"Classification Report:\\n\", classification_report(le.inverse_transform(df_y_test['category']), le.inverse_transform(y_pred)))\n",
        "\n",
        "# Mã hóa nhãn thực tế và dự đoán để vẽ confusion matrix\n",
        "y_test_encoded = le.transform(df_y_test['category'])\n",
        "y_pred_encoded = le.transform(le.inverse_transform(y_pred))  # Đảm bảo nhất quán nhãn\n",
        "\n",
        "# Tính confusion matrix\n",
        "cm = confusion_matrix(y_test_encoded, y_pred_encoded)\n",
        "\n",
        "# Vẽ confusion matrix\n",
        "disp = ConfusionMatrixDisplay(confusion_matrix=cm, display_labels=le.classes_)\n",
        "plt.figure(figsize=(10, 8))\n",
        "disp.plot(xticks_rotation=45, cmap='Blues')\n",
        "plt.title(f'Confusion Matrix - TF-IDF (max_features={best_max_feat})')\n",
        "plt.show()"
      ]
    }
  ],
  "metadata": {
    "colab": {
      "provenance": []
    },
    "kernelspec": {
      "display_name": "Python 3",
      "name": "python3"
    },
    "language_info": {
      "name": "python"
    }
  },
  "nbformat": 4,
  "nbformat_minor": 0
}
