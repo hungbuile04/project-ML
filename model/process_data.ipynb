{
 "cells": [
  {
   "cell_type": "code",
   "execution_count": 1,
   "metadata": {},
   "outputs": [
    {
     "name": "stdout",
     "output_type": "stream",
     "text": [
      "/Users/buihung/prj machine learning/project-ML/model\n"
     ]
    }
   ],
   "source": [
    "import os\n",
    "print(os.getcwd())  # Kiểm tra thư mục làm việc hiện tại\n",
    "os.chdir(\"../\")  # Di chuyển lên thư mục cha\n"
   ]
  },
  {
   "cell_type": "code",
   "execution_count": 5,
   "metadata": {},
   "outputs": [
    {
     "name": "stdout",
     "output_type": "stream",
     "text": [
      "                                             message category\n",
      "0  re : 6 . 1100 , disc : uniformitarianism , re ...      ham\n",
      "1  the other side of * galicismos * * galicismo *...      ham\n",
      "2  re : equistar deal tickets are you still avail...      ham\n",
      "3  \\nHello I am your hot lil horny toy.\\n    I am...     junk\n",
      "4  software at incredibly low prices ( 86 % lower...     junk\n",
      "<class 'pandas.core.frame.DataFrame'>\n",
      "RangeIndex: 18650 entries, 0 to 18649\n",
      "Data columns (total 2 columns):\n",
      " #   Column    Non-Null Count  Dtype \n",
      "---  ------    --------------  ----- \n",
      " 0   message   18634 non-null  object\n",
      " 1   category  18650 non-null  object\n",
      "dtypes: object(2)\n",
      "memory usage: 291.5+ KB\n"
     ]
    }
   ],
   "source": [
    "import pandas as pd\n",
    "\n",
    "# Đọc file CSV\n",
    "df = pd.read_csv(\"resource/Phishing_Email.csv\", header=None, names=[\"id\", \"message\", \"category\"])\n",
    "\n",
    "# Chuẩn hóa nhãn\n",
    "df[\"category\"] = df[\"category\"].map({\"Safe Email\": \"ham\", \"Phishing Email\": \"junk\"})\n",
    "\n",
    "# Giữ lại chỉ hai cột cần thiết\n",
    "df = df[[\"message\",\"category\"]]\n",
    "\n",
    "# Hiển thị 5 dòng đầu tiên\n",
    "print(df.head())\n",
    "df.info()\n"
   ]
  },
  {
   "cell_type": "code",
   "execution_count": 6,
   "metadata": {},
   "outputs": [],
   "source": [
    "df = df.head(5000)"
   ]
  },
  {
   "cell_type": "code",
   "execution_count": 8,
   "metadata": {},
   "outputs": [
    {
     "name": "stdout",
     "output_type": "stream",
     "text": [
      "<class 'pandas.core.frame.DataFrame'>\n",
      "RangeIndex: 5000 entries, 0 to 4999\n",
      "Data columns (total 2 columns):\n",
      " #   Column    Non-Null Count  Dtype \n",
      "---  ------    --------------  ----- \n",
      " 0   message   4992 non-null   object\n",
      " 1   category  5000 non-null   object\n",
      "dtypes: object(2)\n",
      "memory usage: 78.3+ KB\n"
     ]
    }
   ],
   "source": [
    "df.info()"
   ]
  },
  {
   "cell_type": "code",
   "execution_count": 7,
   "metadata": {},
   "outputs": [
    {
     "name": "stdout",
     "output_type": "stream",
     "text": [
      "<class 'pandas.core.frame.DataFrame'>\n",
      "RangeIndex: 5572 entries, 0 to 5571\n",
      "Data columns (total 2 columns):\n",
      " #   Column    Non-Null Count  Dtype \n",
      "---  ------    --------------  ----- \n",
      " 0   message   5572 non-null   object\n",
      " 1   category  5572 non-null   object\n",
      "dtypes: object(2)\n",
      "memory usage: 87.2+ KB\n",
      "None\n"
     ]
    }
   ],
   "source": [
    "import pandas as pd\n",
    "\n",
    "# Đọc dữ liệu, bỏ dòng đầu nếu không phải dữ liệu thực\n",
    "df1 = pd.read_csv(\"resource/spam.csv\", names=[\"category\",\"message\"], skiprows=1)\n",
    "\n",
    "# Thay thế \"spam\" bằng \"junk\"\n",
    "df1[\"category\"] = df1[\"category\"].replace({\"spam\": \"junk\"})\n",
    "\n",
    "df1 = df1[[\"message\",\"category\"]]\n",
    "\n",
    "print(df1.info())\n"
   ]
  },
  {
   "cell_type": "code",
   "execution_count": 9,
   "metadata": {},
   "outputs": [],
   "source": [
    "# Ghép theo chiều dọc\n",
    "df_combined = pd.concat([df1, df], ignore_index=True)\n",
    "\n",
    "# Xuất ra file CSV\n",
    "df_combined.to_csv('resource/email_data.csv', index=False)"
   ]
  },
  {
   "cell_type": "code",
   "execution_count": 11,
   "metadata": {},
   "outputs": [
    {
     "name": "stdout",
     "output_type": "stream",
     "text": [
      "<class 'pandas.core.frame.DataFrame'>\n",
      "RangeIndex: 10572 entries, 0 to 10571\n",
      "Data columns (total 2 columns):\n",
      " #   Column    Non-Null Count  Dtype \n",
      "---  ------    --------------  ----- \n",
      " 0   message   10564 non-null  object\n",
      " 1   category  10572 non-null  object\n",
      "dtypes: object(2)\n",
      "memory usage: 165.3+ KB\n"
     ]
    }
   ],
   "source": [
    "df2 = pd.read_csv(\"resource/email_data.csv\")\n",
    "df2.head()\n",
    "df2.info()"
   ]
  }
 ],
 "metadata": {
  "kernelspec": {
   "display_name": "base",
   "language": "python",
   "name": "python3"
  },
  "language_info": {
   "codemirror_mode": {
    "name": "ipython",
    "version": 3
   },
   "file_extension": ".py",
   "mimetype": "text/x-python",
   "name": "python",
   "nbconvert_exporter": "python",
   "pygments_lexer": "ipython3",
   "version": "3.12.4"
  }
 },
 "nbformat": 4,
 "nbformat_minor": 2
}
